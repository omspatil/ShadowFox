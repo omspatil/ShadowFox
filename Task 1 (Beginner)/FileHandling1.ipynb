{
 "cells": [
  {
   "cell_type": "code",
   "execution_count": 4,
   "metadata": {},
   "outputs": [],
   "source": [
    "import csv\n",
    "\n",
    "# Step 1: Open the file in read mode and read the data into a list of dictionaries\n",
    "students = []\n",
    "with open('student_marks.csv', 'r') as file:\n",
    "    reader = csv.DictReader(file)\n",
    "    for row in reader:\n",
    "        students.append(row)"
   ]
  },
  {
   "cell_type": "code",
   "execution_count": 5,
   "metadata": {},
   "outputs": [],
   "source": [
    "# Step 2: Add total_marks and Average fields to each dictionary\n",
    "for student in students:\n",
    "    # Extract marks from the dictionary, ignoring empty values\n",
    "    marks = [int(student[subject]) for subject in ['Maths', 'Physics', 'Chemistry', 'English', 'Biology', 'Economics', 'History', 'Civics'] if student[subject].isdigit()]\n",
    "    \n",
    "    # Calculate total and average marks\n",
    "    total_marks = sum(marks)\n",
    "    average_marks = total_marks / len(marks) if marks else 0\n",
    "    \n",
    "    # Add new fields to the dictionary\n",
    "    student['total_marks'] = total_marks\n",
    "    student['Average'] = average_marks"
   ]
  },
  {
   "cell_type": "code",
   "execution_count": 6,
   "metadata": {},
   "outputs": [
    {
     "name": "stdout",
     "output_type": "stream",
     "text": [
      "Updated data has been written to 'student_marks_updated.csv'\n"
     ]
    }
   ],
   "source": [
    "# Step 3: Write the updated information to a new CSV file\n",
    "fieldnames = list(students[0].keys())  # Get all the field names including the new ones\n",
    "with open('student_marks_updated.csv', 'w', newline='') as new_file:\n",
    "    writer = csv.DictWriter(new_file, fieldnames=fieldnames)\n",
    "    writer.writeheader()\n",
    "    writer.writerows(students)\n",
    "\n",
    "print(\"Updated data has been written to 'student_marks_updated.csv'\")"
   ]
  }
 ],
 "metadata": {
  "kernelspec": {
   "display_name": "Python 3",
   "language": "python",
   "name": "python3"
  },
  "language_info": {
   "codemirror_mode": {
    "name": "ipython",
    "version": 3
   },
   "file_extension": ".py",
   "mimetype": "text/x-python",
   "name": "python",
   "nbconvert_exporter": "python",
   "pygments_lexer": "ipython3",
   "version": "3.12.3"
  }
 },
 "nbformat": 4,
 "nbformat_minor": 2
}
